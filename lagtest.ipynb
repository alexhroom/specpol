{
 "cells": [
  {
   "cell_type": "code",
   "execution_count": 23,
   "metadata": {},
   "outputs": [],
   "source": [
    "from typing import Callable\n",
    "\n",
    "import numpy as np\n",
    "\n",
    "\n",
    "def trunc_cc(func: Callable, tol: float = 1e-15) -> float:\n",
    "    \"\"\"\n",
    "    Calculate the integral of a function on (0, \\infty)\n",
    "    via truncated Clenshaw-Curtis quadrature.\n",
    "\n",
    "    CITATION:\n",
    "        A truncated Clenshaw-Curtis formula approximates\n",
    "        integrals over a semi-inﬁnite interval\n",
    "        Hiroshi Sugiura, Takemitsu Hasegawa\n",
    "        Numerical Algorithms (2021) 86:659-674\n",
    "        DOI 10.1007/s11075-020-00905-w\n",
    "\n",
    "    Parameters\n",
    "    ----------\n",
    "    func: Callable\n",
    "        The function to integrate.\n",
    "    tol: float, default 1e-15\n",
    "        The tolerance of the approximation's accuracy.\n",
    "\n",
    "    Returns\n",
    "    -------\n",
    "    float\n",
    "        An approximation of the integral of `func`\n",
    "        from 0 to \\infty.\n",
    "    \"\"\"\n",
    "\n",
    "    # calculate truncation endpoint a\n",
    "    a = -np.log10(tol)\n",
    "    if abs(func(a)) > tol:\n",
    "        while abs(func(a)) > tol:\n",
    "            a+=2\n",
    "        while abs(func(a)) < tol:\n",
    "            a-=0.2\n",
    "    else:\n",
    "        while abs(func(a)) > tol:\n",
    "            a+=0.1\n",
    "        while abs(func(a)) < tol:\n",
    "            a-=1\n",
    "\n",
    "    epsilon = max(abs(func(a)), tol)\n",
    "\n",
    "    def error_estimate(mesh, nodes, n):\n",
    "        \"\"\"Estimate the error from integration.\"\"\"\n",
    "        sum_f_even = sum(mesh[0::2])\n",
    "        sum_f_odd = sum(mesh[1::2])\n",
    "        err_est_CC1 = a*abs(sum_f_even - sum_f_odd)/n\n",
    "        sum_even = np.dot(mesh[0::2], nodes[0::2]) - mesh[0]*nodes[0]/2\n",
    "        sum_odd = np.dot(mesh[1::2], nodes[1::2])\n",
    "        err_est_CC2 = 2*a*abs(sum_even - sum_odd)/n\n",
    "\n",
    "        return (err_est_CC1 + err_est_CC2) * 8 * n / ((n**2 - 9)*(n**2 - 1))\n",
    "\n",
    "    fo = None\n",
    "    for k in range(2, 11):\n",
    "        n = 2**k\n",
    "        weights, nodes = clenshaw_curtis(n*2)\n",
    "\n",
    "        nodes = nodes[:n]  # take first n+1 nodes\n",
    "\n",
    "        if k == 2:\n",
    "            xo = a*(nodes+1)\n",
    "            mesh = np.array([func(x) for x in xo])\n",
    "        else:\n",
    "            mesh[0:n:2] = fo\n",
    "            xe = nodes[1::2]\n",
    "            xe = a*(xe+1)\n",
    "            mesh[1:n:2] = [func(x) for x in xe]\n",
    "\n",
    "        result = mesh * weights[:n] * a\n",
    "\n",
    "        err_est = error_estimate(mesh, nodes, n)\n",
    "        if err_est <= epsilon:\n",
    "            break\n",
    "        fo = mesh\n",
    "\n",
    "    return result, err_est\n",
    "\n",
    "\n",
    "def clenshaw_curtis(n: int):\n",
    "    \"\"\"Calculate Clenshaw-Curtis weights and nodes.\"\"\"\n",
    "    nodes = np.arange(3, n+1, 2)\n",
    "    v = np.concatenate((np.array([2]), -4/nodes/(nodes-2)))\n",
    "    v[-1] = v[-1]/(2 - n%2)\n",
    "    weights = np.fft.ifft(v, n).real\n",
    "    weights[0] = weights[0]/2\n",
    "    weights = np.concatenate((weights, [weights[0]]))\n",
    "    mesh = np.linspace(0, np.pi, n+1)\n",
    "    nodes = np.array([-np.cos(x) for x in mesh])\n",
    "\n",
    "    return weights, nodes\n"
   ]
  },
  {
   "cell_type": "code",
   "execution_count": 24,
   "metadata": {},
   "outputs": [
    {
     "ename": "ValueError",
     "evalue": "could not broadcast input array from shape (4,) into shape (2,)",
     "output_type": "error",
     "traceback": [
      "\u001b[0;31m---------------------------------------------------------------------------\u001b[0m",
      "\u001b[0;31mValueError\u001b[0m                                Traceback (most recent call last)",
      "Cell \u001b[0;32mIn [24], line 1\u001b[0m\n\u001b[0;32m----> 1\u001b[0m \u001b[43mtrunc_cc\u001b[49m\u001b[43m(\u001b[49m\u001b[38;5;28;43;01mlambda\u001b[39;49;00m\u001b[43m \u001b[49m\u001b[43mx\u001b[49m\u001b[43m:\u001b[49m\u001b[43m \u001b[49m\u001b[43mnp\u001b[49m\u001b[38;5;241;43m.\u001b[39;49m\u001b[43mexp\u001b[49m\u001b[43m(\u001b[49m\u001b[38;5;241;43m-\u001b[39;49m\u001b[43mx\u001b[49m\u001b[43m)\u001b[49m\u001b[43m)\u001b[49m\n",
      "Cell \u001b[0;32mIn [23], line 69\u001b[0m, in \u001b[0;36mtrunc_cc\u001b[0;34m(func, tol)\u001b[0m\n\u001b[1;32m     67\u001b[0m     mesh \u001b[38;5;241m=\u001b[39m np\u001b[38;5;241m.\u001b[39marray([func(x) \u001b[38;5;28;01mfor\u001b[39;00m x \u001b[38;5;129;01min\u001b[39;00m xo])\n\u001b[1;32m     68\u001b[0m \u001b[38;5;28;01melse\u001b[39;00m:\n\u001b[0;32m---> 69\u001b[0m     \u001b[43mmesh\u001b[49m\u001b[43m[\u001b[49m\u001b[38;5;241;43m0\u001b[39;49m\u001b[43m:\u001b[49m\u001b[43mn\u001b[49m\u001b[43m:\u001b[49m\u001b[38;5;241;43m2\u001b[39;49m\u001b[43m]\u001b[49m \u001b[38;5;241m=\u001b[39m fo\n\u001b[1;32m     70\u001b[0m     xe \u001b[38;5;241m=\u001b[39m nodes[\u001b[38;5;241m1\u001b[39m::\u001b[38;5;241m2\u001b[39m]\n\u001b[1;32m     71\u001b[0m     xe \u001b[38;5;241m=\u001b[39m a\u001b[38;5;241m*\u001b[39m(xe\u001b[38;5;241m+\u001b[39m\u001b[38;5;241m1\u001b[39m)\n",
      "\u001b[0;31mValueError\u001b[0m: could not broadcast input array from shape (4,) into shape (2,)"
     ]
    }
   ],
   "source": [
    "trunc_cc(lambda x: np.exp(-x))"
   ]
  },
  {
   "cell_type": "code",
   "execution_count": 8,
   "metadata": {},
   "outputs": [],
   "source": [
    "nodes = np.arange(3, 6+1, 2)\n",
    "v = np.concatenate((np.array([2]), -4/nodes/(nodes-2)))"
   ]
  },
  {
   "cell_type": "code",
   "execution_count": 9,
   "metadata": {},
   "outputs": [
    {
     "data": {
      "text/plain": [
       "array([ 2.        , -1.33333333, -0.26666667])"
      ]
     },
     "execution_count": 9,
     "metadata": {},
     "output_type": "execute_result"
    }
   ],
   "source": [
    "v"
   ]
  },
  {
   "cell_type": "code",
   "execution_count": null,
   "metadata": {},
   "outputs": [],
   "source": []
  }
 ],
 "metadata": {
  "kernelspec": {
   "display_name": "Python 3",
   "language": "python",
   "name": "python3"
  },
  "language_info": {
   "codemirror_mode": {
    "name": "ipython",
    "version": 3
   },
   "file_extension": ".py",
   "mimetype": "text/x-python",
   "name": "python",
   "nbconvert_exporter": "python",
   "pygments_lexer": "ipython3",
   "version": "3.11.2"
  },
  "orig_nbformat": 4
 },
 "nbformat": 4,
 "nbformat_minor": 2
}
